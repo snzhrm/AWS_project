{
 "cells": [
  {
   "cell_type": "code",
   "execution_count": 3,
   "id": "d8fdbd12-a7ca-48e9-ba4e-f355c4f921e3",
   "metadata": {},
   "outputs": [],
   "source": [
    "!pip install transformers torch --quiet"
   ]
  },
  {
   "cell_type": "code",
   "execution_count": 1,
   "id": "69849609-72a9-4a21-9f7a-f0f61497af9b",
   "metadata": {},
   "outputs": [
    {
     "name": "stdout",
     "output_type": "stream",
     "text": [
      "           created_utc                                          full_text  \\\n",
      "0  2025-03-08T14:47:17  Time to Shake Things Up in Our SubGot Ideas Sh...   \n",
      "1  2025-04-18T07:50:00  of ultrasound examinations performed by traine...   \n",
      "2  2025-04-17T11:02:16  This College Protester Isnt Real Its an AIPowe...   \n",
      "3  2025-04-17T15:37:28  What are some of your biggest fears regarding ...   \n",
      "4  2025-04-17T19:56:52  An AI bot just used the name I use on other pl...   \n",
      "\n",
      "                                      filtered_words  \n",
      "0  [Time, Shake, Things, SubGot, Ideas, Share, Th...  \n",
      "1  [ultrasound, examinations, performed, trained,...  \n",
      "2  [College, Protester, Isnt, Real, AIPowered, Un...  \n",
      "3  [biggest, fears, regarding, exponential, growt...  \n",
      "4  [AI, bot, used, name, use, platforms, previous...  \n"
     ]
    }
   ],
   "source": [
    "import boto3\n",
    "import pandas as pd\n",
    "import io\n",
    "\n",
    "# Инициализируем клиента S3\n",
    "s3 = boto3.client('s3')\n",
    "\n",
    "# Параметры\n",
    "bucket_name = 'aws-nlp-project'\n",
    "key = 'cleaned_csv/part-00000-7c869441-b25d-4d84-8189-4bdfe52112a4-c000.snappy.parquet'\n",
    "\n",
    "# Считываем Parquet-файл из S3\n",
    "obj = s3.get_object(Bucket=bucket_name, Key=key)\n",
    "data = io.BytesIO(obj['Body'].read())\n",
    "\n",
    "# Чтение parquet-файла в pandas DataFrame\n",
    "df = pd.read_parquet(data, engine='pyarrow')  # или engine='fastparquet'\n",
    "\n",
    "# Проверка\n",
    "print(df.head())\n"
   ]
  },
  {
   "cell_type": "code",
   "execution_count": 4,
   "id": "ada8f654-f44f-4c1b-840b-e478270b1e9c",
   "metadata": {},
   "outputs": [
    {
     "name": "stderr",
     "output_type": "stream",
     "text": [
      "No model was supplied, defaulted to distilbert/distilbert-base-uncased-finetuned-sst-2-english and revision 714eb0f (https://huggingface.co/distilbert/distilbert-base-uncased-finetuned-sst-2-english).\n",
      "Using a pipeline without specifying a model name and revision in production is not recommended.\n"
     ]
    },
    {
     "data": {
      "application/vnd.jupyter.widget-view+json": {
       "model_id": "021afa8c465d4a6ab1977561752b77bd",
       "version_major": 2,
       "version_minor": 0
      },
      "text/plain": [
       "config.json:   0%|          | 0.00/629 [00:00<?, ?B/s]"
      ]
     },
     "metadata": {},
     "output_type": "display_data"
    },
    {
     "name": "stderr",
     "output_type": "stream",
     "text": [
      "Xet Storage is enabled for this repo, but the 'hf_xet' package is not installed. Falling back to regular HTTP download. For better performance, install the package with: `pip install huggingface_hub[hf_xet]` or `pip install hf_xet`\n"
     ]
    },
    {
     "data": {
      "application/vnd.jupyter.widget-view+json": {
       "model_id": "b401bd8d90da49c288d80865fa73a33c",
       "version_major": 2,
       "version_minor": 0
      },
      "text/plain": [
       "model.safetensors:   0%|          | 0.00/268M [00:00<?, ?B/s]"
      ]
     },
     "metadata": {},
     "output_type": "display_data"
    },
    {
     "data": {
      "application/vnd.jupyter.widget-view+json": {
       "model_id": "f7d4a0e1ce0c40ddab8683b69e72fc0e",
       "version_major": 2,
       "version_minor": 0
      },
      "text/plain": [
       "tokenizer_config.json:   0%|          | 0.00/48.0 [00:00<?, ?B/s]"
      ]
     },
     "metadata": {},
     "output_type": "display_data"
    },
    {
     "data": {
      "application/vnd.jupyter.widget-view+json": {
       "model_id": "ed72d7c1f6fa4b7fa699510ea2dceac9",
       "version_major": 2,
       "version_minor": 0
      },
      "text/plain": [
       "vocab.txt:   0%|          | 0.00/232k [00:00<?, ?B/s]"
      ]
     },
     "metadata": {},
     "output_type": "display_data"
    },
    {
     "name": "stderr",
     "output_type": "stream",
     "text": [
      "Device set to use cpu\n"
     ]
    },
    {
     "data": {
      "application/vnd.jupyter.widget-view+json": {
       "model_id": "bc49b779a78245e282c5741752a2db30",
       "version_major": 2,
       "version_minor": 0
      },
      "text/plain": [
       "config.json:   0%|          | 0.00/1.00k [00:00<?, ?B/s]"
      ]
     },
     "metadata": {},
     "output_type": "display_data"
    },
    {
     "name": "stderr",
     "output_type": "stream",
     "text": [
      "Xet Storage is enabled for this repo, but the 'hf_xet' package is not installed. Falling back to regular HTTP download. For better performance, install the package with: `pip install huggingface_hub[hf_xet]` or `pip install hf_xet`\n"
     ]
    },
    {
     "data": {
      "application/vnd.jupyter.widget-view+json": {
       "model_id": "53fd76b525e645059b1b97d04d33269a",
       "version_major": 2,
       "version_minor": 0
      },
      "text/plain": [
       "pytorch_model.bin:   0%|          | 0.00/329M [00:00<?, ?B/s]"
      ]
     },
     "metadata": {},
     "output_type": "display_data"
    },
    {
     "name": "stderr",
     "output_type": "stream",
     "text": [
      "Xet Storage is enabled for this repo, but the 'hf_xet' package is not installed. Falling back to regular HTTP download. For better performance, install the package with: `pip install huggingface_hub[hf_xet]` or `pip install hf_xet`\n"
     ]
    },
    {
     "data": {
      "application/vnd.jupyter.widget-view+json": {
       "model_id": "40e52d2dacb345e89965d18da535b0d3",
       "version_major": 2,
       "version_minor": 0
      },
      "text/plain": [
       "model.safetensors:   0%|          | 0.00/329M [00:00<?, ?B/s]"
      ]
     },
     "metadata": {},
     "output_type": "display_data"
    },
    {
     "data": {
      "application/vnd.jupyter.widget-view+json": {
       "model_id": "cc6bd08983bf4cd6a514e44361415e76",
       "version_major": 2,
       "version_minor": 0
      },
      "text/plain": [
       "tokenizer_config.json:   0%|          | 0.00/294 [00:00<?, ?B/s]"
      ]
     },
     "metadata": {},
     "output_type": "display_data"
    },
    {
     "data": {
      "application/vnd.jupyter.widget-view+json": {
       "model_id": "71df1746b17d43768c97611ed287721c",
       "version_major": 2,
       "version_minor": 0
      },
      "text/plain": [
       "vocab.json:   0%|          | 0.00/798k [00:00<?, ?B/s]"
      ]
     },
     "metadata": {},
     "output_type": "display_data"
    },
    {
     "data": {
      "application/vnd.jupyter.widget-view+json": {
       "model_id": "028176e21d7946319a3fffff965bdf74",
       "version_major": 2,
       "version_minor": 0
      },
      "text/plain": [
       "merges.txt:   0%|          | 0.00/456k [00:00<?, ?B/s]"
      ]
     },
     "metadata": {},
     "output_type": "display_data"
    },
    {
     "data": {
      "application/vnd.jupyter.widget-view+json": {
       "model_id": "5b7f52e0441a4200beb909f583f21213",
       "version_major": 2,
       "version_minor": 0
      },
      "text/plain": [
       "tokenizer.json:   0%|          | 0.00/1.36M [00:00<?, ?B/s]"
      ]
     },
     "metadata": {},
     "output_type": "display_data"
    },
    {
     "data": {
      "application/vnd.jupyter.widget-view+json": {
       "model_id": "8865be5828ad4352ac6691494caf33ec",
       "version_major": 2,
       "version_minor": 0
      },
      "text/plain": [
       "special_tokens_map.json:   0%|          | 0.00/239 [00:00<?, ?B/s]"
      ]
     },
     "metadata": {},
     "output_type": "display_data"
    },
    {
     "name": "stderr",
     "output_type": "stream",
     "text": [
      "Device set to use cpu\n",
      "/home/ec2-user/anaconda3/envs/python3/lib/python3.10/site-packages/transformers/pipelines/text_classification.py:106: UserWarning: `return_all_scores` is now deprecated,  if want a similar functionality use `top_k=None` instead of `return_all_scores=True` or `top_k=1` instead of `return_all_scores=False`.\n",
      "  warnings.warn(\n"
     ]
    }
   ],
   "source": [
    "from transformers import pipeline\n",
    "\n",
    "# 1. Sentiment (Positive/Negative)\n",
    "sentiment_pipeline = pipeline(\"sentiment-analysis\")\n",
    "\n",
    "# 2. Emotion classifier (joy, anger, sadness, fear, etc.)\n",
    "emotion_pipeline = pipeline(\n",
    "    \"text-classification\",\n",
    "    model=\"j-hartmann/emotion-english-distilroberta-base\",\n",
    "    return_all_scores=False\n",
    ")"
   ]
  },
  {
   "cell_type": "code",
   "execution_count": 5,
   "id": "f5747f16-6035-454a-84c9-e343529dce9c",
   "metadata": {},
   "outputs": [],
   "source": [
    "# Убедись, что колонка full_text есть\n",
    "texts = df['full_text'].astype(str).tolist()\n",
    "\n",
    "# Классическая тональность\n",
    "sentiment_results = sentiment_pipeline(texts, truncation=True)\n",
    "\n",
    "# Эмоции\n",
    "emotion_results = emotion_pipeline(texts, truncation=True)\n",
    "\n",
    "# Добавим в DataFrame\n",
    "df['sentiment_label'] = [r['label'] for r in sentiment_results]\n",
    "df['sentiment_score'] = [r['score'] for r in sentiment_results]\n",
    "\n",
    "df['emotion_label'] = [r['label'] for r in emotion_results]\n",
    "df['emotion_score'] = [r['score'] for r in emotion_results]"
   ]
  },
  {
   "cell_type": "code",
   "execution_count": 6,
   "id": "56477c4a-3f94-43f0-ab82-0ad412412dae",
   "metadata": {},
   "outputs": [
    {
     "data": {
      "text/html": [
       "<div>\n",
       "<style scoped>\n",
       "    .dataframe tbody tr th:only-of-type {\n",
       "        vertical-align: middle;\n",
       "    }\n",
       "\n",
       "    .dataframe tbody tr th {\n",
       "        vertical-align: top;\n",
       "    }\n",
       "\n",
       "    .dataframe thead th {\n",
       "        text-align: right;\n",
       "    }\n",
       "</style>\n",
       "<table border=\"1\" class=\"dataframe\">\n",
       "  <thead>\n",
       "    <tr style=\"text-align: right;\">\n",
       "      <th></th>\n",
       "      <th>created_utc</th>\n",
       "      <th>full_text</th>\n",
       "      <th>filtered_words</th>\n",
       "      <th>sentiment_label</th>\n",
       "      <th>sentiment_score</th>\n",
       "      <th>emotion_label</th>\n",
       "      <th>emotion_score</th>\n",
       "    </tr>\n",
       "  </thead>\n",
       "  <tbody>\n",
       "    <tr>\n",
       "      <th>0</th>\n",
       "      <td>2025-03-08T14:47:17</td>\n",
       "      <td>Time to Shake Things Up in Our SubGot Ideas Sh...</td>\n",
       "      <td>[Time, Shake, Things, SubGot, Ideas, Share, Th...</td>\n",
       "      <td>POSITIVE</td>\n",
       "      <td>0.997226</td>\n",
       "      <td>neutral</td>\n",
       "      <td>0.461730</td>\n",
       "    </tr>\n",
       "    <tr>\n",
       "      <th>1</th>\n",
       "      <td>2025-04-18T07:50:00</td>\n",
       "      <td>of ultrasound examinations performed by traine...</td>\n",
       "      <td>[ultrasound, examinations, performed, trained,...</td>\n",
       "      <td>NEGATIVE</td>\n",
       "      <td>0.991565</td>\n",
       "      <td>neutral</td>\n",
       "      <td>0.472881</td>\n",
       "    </tr>\n",
       "    <tr>\n",
       "      <th>2</th>\n",
       "      <td>2025-04-17T11:02:16</td>\n",
       "      <td>This College Protester Isnt Real Its an AIPowe...</td>\n",
       "      <td>[College, Protester, Isnt, Real, AIPowered, Un...</td>\n",
       "      <td>NEGATIVE</td>\n",
       "      <td>0.998037</td>\n",
       "      <td>anger</td>\n",
       "      <td>0.443800</td>\n",
       "    </tr>\n",
       "    <tr>\n",
       "      <th>3</th>\n",
       "      <td>2025-04-17T15:37:28</td>\n",
       "      <td>What are some of your biggest fears regarding ...</td>\n",
       "      <td>[biggest, fears, regarding, exponential, growt...</td>\n",
       "      <td>NEGATIVE</td>\n",
       "      <td>0.987808</td>\n",
       "      <td>fear</td>\n",
       "      <td>0.983329</td>\n",
       "    </tr>\n",
       "    <tr>\n",
       "      <th>4</th>\n",
       "      <td>2025-04-17T19:56:52</td>\n",
       "      <td>An AI bot just used the name I use on other pl...</td>\n",
       "      <td>[AI, bot, used, name, use, platforms, previous...</td>\n",
       "      <td>NEGATIVE</td>\n",
       "      <td>0.998116</td>\n",
       "      <td>neutral</td>\n",
       "      <td>0.787960</td>\n",
       "    </tr>\n",
       "  </tbody>\n",
       "</table>\n",
       "</div>"
      ],
      "text/plain": [
       "           created_utc                                          full_text  \\\n",
       "0  2025-03-08T14:47:17  Time to Shake Things Up in Our SubGot Ideas Sh...   \n",
       "1  2025-04-18T07:50:00  of ultrasound examinations performed by traine...   \n",
       "2  2025-04-17T11:02:16  This College Protester Isnt Real Its an AIPowe...   \n",
       "3  2025-04-17T15:37:28  What are some of your biggest fears regarding ...   \n",
       "4  2025-04-17T19:56:52  An AI bot just used the name I use on other pl...   \n",
       "\n",
       "                                      filtered_words sentiment_label  \\\n",
       "0  [Time, Shake, Things, SubGot, Ideas, Share, Th...        POSITIVE   \n",
       "1  [ultrasound, examinations, performed, trained,...        NEGATIVE   \n",
       "2  [College, Protester, Isnt, Real, AIPowered, Un...        NEGATIVE   \n",
       "3  [biggest, fears, regarding, exponential, growt...        NEGATIVE   \n",
       "4  [AI, bot, used, name, use, platforms, previous...        NEGATIVE   \n",
       "\n",
       "   sentiment_score emotion_label  emotion_score  \n",
       "0         0.997226       neutral       0.461730  \n",
       "1         0.991565       neutral       0.472881  \n",
       "2         0.998037         anger       0.443800  \n",
       "3         0.987808          fear       0.983329  \n",
       "4         0.998116       neutral       0.787960  "
      ]
     },
     "execution_count": 6,
     "metadata": {},
     "output_type": "execute_result"
    }
   ],
   "source": [
    "df.head()"
   ]
  },
  {
   "cell_type": "code",
   "execution_count": 8,
   "id": "c4bed4f8-2b09-4d55-995c-d3438756cc35",
   "metadata": {},
   "outputs": [],
   "source": [
    "df.to_csv(\"reddit_sentiments.csv\", index=False)"
   ]
  },
  {
   "cell_type": "code",
   "execution_count": 9,
   "id": "09f170f2-bd61-4395-8ffb-a3f97ca4a10f",
   "metadata": {},
   "outputs": [],
   "source": [
    "s3 = boto3.client(\"s3\")\n",
    "bucket_name = \"aws-nlp-project\"\n",
    "\n",
    "# Загрузка файла в нужную папку S3\n",
    "s3.upload_file(\"reddit_sentiments.csv\", bucket_name, \"sentiment_output/reddit_sentiments.csv\")"
   ]
  },
  {
   "cell_type": "code",
   "execution_count": null,
   "id": "1c6f463d-85f1-4215-b78e-f5fa22722152",
   "metadata": {},
   "outputs": [],
   "source": []
  }
 ],
 "metadata": {
  "kernelspec": {
   "display_name": "conda_python3",
   "language": "python",
   "name": "conda_python3"
  },
  "language_info": {
   "codemirror_mode": {
    "name": "ipython",
    "version": 3
   },
   "file_extension": ".py",
   "mimetype": "text/x-python",
   "name": "python",
   "nbconvert_exporter": "python",
   "pygments_lexer": "ipython3",
   "version": "3.10.16"
  }
 },
 "nbformat": 4,
 "nbformat_minor": 5
}
