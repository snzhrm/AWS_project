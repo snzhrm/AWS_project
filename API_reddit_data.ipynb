{
 "cells": [
  {
   "cell_type": "code",
   "execution_count": 44,
   "id": "9450ea62-8159-4711-98bd-38f65d82554d",
   "metadata": {},
   "outputs": [
    {
     "name": "stderr",
     "output_type": "stream",
     "text": [
      "C:\\Users\\sanzh\\AppData\\Local\\Temp\\ipykernel_10424\\1209802141.py:26: DeprecationWarning: datetime.datetime.utcfromtimestamp() is deprecated and scheduled for removal in a future version. Use timezone-aware objects to represent datetimes in UTC: datetime.datetime.fromtimestamp(timestamp, datetime.UTC).\n",
      "  datetime.utcfromtimestamp(post.created_utc).isoformat()\n"
     ]
    },
    {
     "name": "stdout",
     "output_type": "stream",
     "text": [
      " Данные сохранены в C:/Users/sanzh/Downloads\\ai.csv\n"
     ]
    }
   ],
   "source": [
    "import praw\n",
    "import csv\n",
    "from datetime import datetime\n",
    "import os\n",
    "\n",
    "reddit = praw.Reddit(\n",
    "    client_id=\"G8pc6X2PUgMJQBcsIo2G8g\",\n",
    "    client_secret=\"3JLvamD68LeQDBccQFr_5nRbo48mdw\",\n",
    "    user_agent=\"script:reddit_nlp_project:v1.0 (by u/sanzhar)\"\n",
    ")\n",
    "\n",
    "subreddit_name = \"artificialinteligence\"\n",
    "limit = 1000 \n",
    "save_path = os.path.expanduser(\"C:/Users/sanzh/Downloads\") \n",
    "filename = os.path.join(save_path, \"ai.csv\")\n",
    "\n",
    "with open(filename, 'w', newline='', encoding='utf-8') as csvfile:\n",
    "    writer = csv.writer(csvfile)\n",
    "    writer.writerow(['title', 'body', 'createad_utc'])\n",
    "\n",
    "    for post in reddit.subreddit(subreddit_name).hot(limit=limit):\n",
    "        writer.writerow([\n",
    "            post.title.strip(),\n",
    "            post.selftext.strip(),\n",
    "            datetime.utcfromtimestamp(post.created_utc).isoformat()\n",
    "        ])\n",
    "\n",
    "print(f\" Данные сохранены в {filename}\")"
   ]
  },
  {
   "cell_type": "code",
   "execution_count": 40,
   "id": "7c3bfd64-b72c-4a88-8fa9-0afac1de264a",
   "metadata": {},
   "outputs": [],
   "source": [
    "import pandas as pd\n",
    "df = pd.read_csv('ai.csv')"
   ]
  },
  {
   "cell_type": "code",
   "execution_count": 41,
   "id": "ead74721-23ba-487d-ae05-48677f304bee",
   "metadata": {},
   "outputs": [
    {
     "data": {
      "text/plain": [
       "(495, 4)"
      ]
     },
     "execution_count": 41,
     "metadata": {},
     "output_type": "execute_result"
    }
   ],
   "source": [
    "df.shape"
   ]
  },
  {
   "cell_type": "code",
   "execution_count": null,
   "id": "8f6833d8-3914-4feb-a867-783fa0b2dad7",
   "metadata": {},
   "outputs": [],
   "source": []
  }
 ],
 "metadata": {
  "kernelspec": {
   "display_name": "Python 3 (ipykernel)",
   "language": "python",
   "name": "python3"
  },
  "language_info": {
   "codemirror_mode": {
    "name": "ipython",
    "version": 3
   },
   "file_extension": ".py",
   "mimetype": "text/x-python",
   "name": "python",
   "nbconvert_exporter": "python",
   "pygments_lexer": "ipython3",
   "version": "3.12.4"
  }
 },
 "nbformat": 4,
 "nbformat_minor": 5
}
